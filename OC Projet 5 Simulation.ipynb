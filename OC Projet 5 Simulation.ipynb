{
 "cells": [
  {
   "cell_type": "markdown",
   "id": "eb7a9587-0821-4ee3-bdf0-9e92b6a005ef",
   "metadata": {
    "tags": []
   },
   "source": [
    "### <p style=\"background-color:#627D50;color:#D1CABD;font-size:110%;text-align:center;border-radius:20px 60px;  border: 10px solid #cfcfcf;  padding-top: 10px;  padding-left: 10px;  padding-right: 10px; padding-bottom: 10px;  border-radius: 80px 20px;line-height: 1.2em; margin-bottom: 10px;\"> **Projet 5** : Segmentez des clients d'un site e-commerce </p>\n",
    "\n",
    "<img src=\"Olist.png\" align=\"left\" alt=\"Alternative text\" />\n",
    "\n",
    "Vous êtes consultant pour ***Olist***, une entreprise brésilienne qui propose une solution de vente sur les marketplaces en ligne.\n",
    "\n",
    "***Olist*** souhaite que vous fournissiez à ses équipes d'e-commerce une segmentation des clients qu'elles pourront utiliser au quotidien pour leurs campagnes de communication.\n",
    "\n",
    "Votre ***objectif*** est de comprendre les différents types d'utilisateurs grâce à leur comportement et à leurs données personnelles.\n",
    "\n",
    "---\n",
    "- Mentor [**Babou M'BAYE**]()\n",
    "- Etudiant [**Bourama FANE**](https://www.linkedin.com/in/bourama-fan%C3%A9-7aba41141/)\n",
    "- Parcours [*Data Scientiste*]()\n",
    "- Ecole [*OpenClassrooms*]()\n",
    "\n",
    "---"
   ]
  },
  {
   "cell_type": "markdown",
   "id": "8fddd447-bb62-4f40-9c41-4af89c952a0c",
   "metadata": {},
   "source": [
    "## <a id='-1'> <font color='#114b98' font-size='110%' text-align='left'> Sommaire </font> </a>\n",
    "----------"
   ]
  },
  {
   "cell_type": "markdown",
   "id": "ab51cd02-5f94-4c82-a5d2-6ebe8f70b432",
   "metadata": {},
   "source": [
    "[<font color=\"#337da4\"> <h5> Librairies](#0)</h5>\n",
    "[<font color=\"#337da4\"> <h5> 1. Contexte](#1)</h5>\n",
    "[<font color=\"#337da4\"> <h5> 2. Chargement des bases](#2)</h5>\n",
    "[<font color=\"#337da4\"> <h5> 3. Stabilité temporelle du modèle ](#3)</h5>\n",
    "\n",
    "> [3.1. Période de reference](#3.1)<br>\n",
    "> [3.2. Par période de 1 mois](#3.2)<br>\n",
    "> [3.3. Chaque 2 semaines](#3.3)<br>\n",
    "> [3.4. Chaque semaine](#3.4)<br>\n",
    "\n",
    "[<font color=\"#337da4\"> <h5> 4. Conclusion](#4)</h5>\n",
    "-----------"
   ]
  },
  {
   "cell_type": "markdown",
   "id": "eb1d1092-51f1-46a9-823e-e750507f4340",
   "metadata": {},
   "source": [
    "#### <font color=\"#337da4\" id=\"0\"> Librairies </font>\n",
    "----------------------------"
   ]
  },
  {
   "cell_type": "code",
   "execution_count": 1,
   "id": "3eee0c74-dc48-402e-b758-2f68255ea468",
   "metadata": {},
   "outputs": [],
   "source": [
    "# Manipulations des données\n",
    "import numpy as np\n",
    "import pandas as pd\n",
    "import datetime as dt\n",
    "\n",
    "# Représentations graphiques\n",
    "import matplotlib.pyplot as plt\n",
    "import matplotlib.cm as cm\n",
    "import seaborn as sns\n",
    "import plotly.graph_objects as go\n",
    "from sklearn.impute import SimpleImputer\n",
    "\n",
    "from function import *\n",
    "\n",
    "# Management des fichiers\n",
    "import os\n",
    "\n",
    "# Management des alertes\n",
    "import warnings\n",
    "warnings.filterwarnings(\"ignore\") # Ignorer des warnings pour avoir un script plus propre.\n",
    "\n",
    "# Graphiques intéractives\n",
    "# import ipympl \n",
    "# import ipywidgets as widgets\n",
    "\n",
    "%matplotlib inline"
   ]
  },
  {
   "cell_type": "code",
   "execution_count": 2,
   "id": "413b7b75-e3fc-4696-9b19-64460225bcd3",
   "metadata": {},
   "outputs": [],
   "source": [
    "# # Pour prendre en compte le temps de calcul\n",
    "# import time\n",
    "\n",
    "# # Sélection des variables d'entrée (analyses de la dataset)\n",
    "# from statsmodels.stats.outliers_influence import variance_inflation_factor as VIF\n",
    "# from sklearn.feature_selection import SelectKBest, RFE, RFECV, f_classif\n",
    "\n",
    "# # sklearn metrics pour quantifier la qualité des modèles\n",
    "# from sklearn.metrics import classification_report, confusion_matrix\n",
    "# from sklearn.metrics import recall_score, precision_score, f1_score\n",
    "# from sklearn.metrics import fbeta_score, make_scorer\n",
    "# from sklearn.metrics import precision_recall_curve, auc, roc_auc_score, roc_curve\n",
    "# from sklearn.metrics import silhouette_score, silhouette_samples\n",
    "# from sklearn.metrics import adjusted_rand_score, adjusted_mutual_info_score\n",
    "# from sklearn.metrics import homogeneity_score\n",
    "\n",
    "# # sklearn pipeline\n",
    "# from sklearn.pipeline import Pipeline  # pour effectuer des pipelines\n",
    "\n",
    "# # sklear impute pour effectuer des imputation de valeurs manquantes\n",
    "# from sklearn.impute import SimpleImputer\n",
    "\n",
    "# # sklearn numerical or categorical preprocessing\n",
    "# from sklearn.preprocessing import LabelEncoder, StandardScaler, OneHotEncoder\n",
    "# from sklearn.preprocessing import normalize\n",
    "# from sklearn.compose import ColumnTransformer\n",
    "\n",
    "# # rajout de nouvelles variables\n",
    "# from sklearn.preprocessing import PolynomialFeatures\n",
    "\n",
    "# # sklearn text preprocessing\n",
    "# from sklearn.feature_extraction.text import CountVectorizer\n",
    "# from sklearn.feature_extraction.text import TfidfVectorizer\n",
    "\n",
    "# # image and video preprocessing  next\n",
    "\n",
    "# # Pour séparer train/test et faire des validations croisées et des stratification ainsi que des grilles de recherches\n",
    "# from sklearn.model_selection import train_test_split\n",
    "# from sklearn.model_selection import cross_val_score, cross_val_predict\n",
    "# from sklearn.model_selection import StratifiedKFold, StratifiedShuffleSplit\n",
    "# from sklearn.model_selection import GridSearchCV\n",
    "\n",
    "# # Pour faire un over sampling et équilibrer les lables\n",
    "# from imblearn.pipeline import Pipeline as Imb_Pipeline\n",
    "# from imblearn.over_sampling import SVMSMOTE\n",
    "# from imblearn.over_sampling import SMOTE\n",
    "\n",
    "# # Pour effectuer une PCA avant le modèle\n",
    "# from sklearn.decomposition import PCA\n",
    "# from sklearn.decomposition import TruncatedSVD  # si vous avez trop de 0 dans votre dataset\n",
    "\n",
    "# # Modèles de clustering\n",
    "# from sklearn.cluster import KMeans\n",
    "# from sklearn.cluster import DBSCAN  # si le kmeans prend trop de temps\n",
    "# from sklearn.cluster import OPTICS, cluster_optics_dbscan\n",
    "\n",
    "# # Pour choisir le meilleur nombre de clusters\n",
    "# from yellowbrick.cluster import KElbowVisualizer\n",
    "# from yellowbrick.cluster import SilhouetteVisualizer\n",
    "# from yellowbrick.cluster import InterclusterDistance\n",
    "\n",
    "# # Les différents modèles testés\n",
    "# from sklearn.neighbors import KNeighborsClassifier\n",
    "# from sklearn.linear_model import LogisticRegression\n",
    "# from sklearn.linear_model import Perceptron\n",
    "# from sklearn.svm import SVC\n",
    "# from sklearn.dummy import DummyClassifier\n",
    "\n",
    "# # Modèle ensembliste\n",
    "# from sklearn.ensemble import RandomForestClassifier\n",
    "# from sklearn.ensemble import GradientBoostingClassifier\n",
    "# from sklearn.ensemble import VotingClassifier\n",
    "\n",
    "# # Gestion des données aberrantes\n",
    "# from sklearn.ensemble import IsolationForest\n",
    "# from sklearn.linear_model import LogisticRegression\n",
    "# from sklearn.metrics import classification_report\n",
    "# from imblearn.pipeline import make_pipeline\n",
    "# from imblearn import FunctionSampler\n",
    "\n",
    "# # Pour interpréter le modèle\n",
    "# #import lime\n",
    "# #import shap\n",
    "\n",
    "# # Un Modèle de deep learning\n",
    "# #from sklearn.neural_network import MLPClassifier\n",
    "\n",
    "# # Pour le feature importance\n",
    "# #from yellowbrick.model_selection import FeatureImportances\n",
    "\n",
    "# # Modele d'audit \n",
    "# #import aquietas\n",
    "\n",
    "# # Modele de deploiement de module et utilisation \n",
    "# #import flash"
   ]
  },
  {
   "cell_type": "code",
   "execution_count": 3,
   "id": "ed62c0aa-8db9-44f2-ac9d-ae5663062eb4",
   "metadata": {},
   "outputs": [
    {
     "data": {
      "text/plain": [
       "'C:\\\\Users\\\\Fane0763\\\\OpenClassroom\\\\OC Projet 5'"
      ]
     },
     "execution_count": 3,
     "metadata": {},
     "output_type": "execute_result"
    }
   ],
   "source": [
    "os.getcwd()"
   ]
  },
  {
   "cell_type": "markdown",
   "id": "b8c0aa51-18ce-4603-bebf-94b1643e48eb",
   "metadata": {},
   "source": [
    "### <font color=\"#337da4\" id=\"1\"> 1. Contexte</font>\n",
    "----------------------------\n",
    "Dans le but d'établir un contrat de maintenance de l'algorithme de segmentation client, nous devons tester sa stabilité dans le temps et voir, par exemple, à quel moment les clients changent de Cluster. Ceci revient à ***tester la stabilité du modèle*** dans le temps.\n",
    "\n",
    "En pratique, il faut refaire les calculs du modèle en fonction d'une période donnée. "
   ]
  },
  {
   "cell_type": "markdown",
   "id": "de0abb7c-546c-45c6-a9b0-614390061b81",
   "metadata": {},
   "source": [
    "### <font color=\"#337da4\" id=\"2\"> 2. Chargement des bases </font>\n",
    "----------------------------"
   ]
  },
  {
   "cell_type": "code",
   "execution_count": 4,
   "id": "642cc0d6-7e0e-44eb-b663-7bbbfa77cd59",
   "metadata": {},
   "outputs": [],
   "source": [
    "dir_name = 'C:/Users/Fane0763/OpenClassroom/OC Projet 5'\n",
    "# files=['olist_customers_dataset.csv','olist_orders_dataset.csv','olist_order_reviews_dataset.csv',\n",
    "#        'olist_order_payments_dataset.csv']\n",
    "files=['df_customers.csv', 'df_orders.csv', 'df_order_reviews.csv', 'df_order_payments.csv']\n",
    "df_name=['df_customers', 'df_orders', 'df_order_reviews','df_order_payments']\n",
    "\n",
    "for file_name, df in zip(files, df_name):    \n",
    "    file_path = os.path.join(dir_name, file_name)\n",
    "    globals()[df] = pd.read_csv(file_path)\n",
    "    \n",
    "df_Olist_rfm=pd.read_csv('df_Olist_rfm.csv')"
   ]
  },
  {
   "cell_type": "code",
   "execution_count": 5,
   "id": "20ad12b9-23f9-4752-97bf-1092e9dcb4cf",
   "metadata": {},
   "outputs": [],
   "source": [
    "df_simulation= pd.merge(df_customers, df_orders, on=[\"customer_id\"],how=\"left\")\n",
    "df_simulation= df_simulation.merge(df_order_reviews, on=[\"order_id\"],how=\"left\")\n",
    "df_simulation= df_simulation.merge(df_order_payments, on=\"order_id\",how=\"left\")\n",
    "df_simulation= df_simulation.merge(df_Olist_rfm[['customer_unique_id']], on=\"customer_unique_id\",how=\"inner\")\n",
    "\n",
    "df_simulation[\"order_purchase_timestamp\"] = pd.to_datetime(df_simulation[\"order_purchase_timestamp\"], errors = \"coerce\")\n",
    "df_simulation['review_score'].fillna(df_simulation['review_score'].mode().iloc[0],inplace=True)"
   ]
  },
  {
   "cell_type": "code",
   "execution_count": 6,
   "id": "c2633182-0656-475c-b373-8adf7e5a95ee",
   "metadata": {},
   "outputs": [
    {
     "data": {
      "text/plain": [
       "customer_id                        0\n",
       "customer_unique_id                 0\n",
       "customer_zip_code_prefix           0\n",
       "customer_city                      0\n",
       "customer_state                     0\n",
       "customer_state_name                0\n",
       "customer_region                    0\n",
       "order_id                           0\n",
       "order_status                       0\n",
       "order_purchase_timestamp           0\n",
       "order_approved_at                  0\n",
       "order_delivered_carrier_date       0\n",
       "order_delivered_customer_date      0\n",
       "order_estimated_delivery_date      0\n",
       "mois_num                           0\n",
       "season                             0\n",
       "week                               0\n",
       "hour                               0\n",
       "review_id                        783\n",
       "review_score                       0\n",
       "review_comment_title             783\n",
       "review_comment_message           783\n",
       "review_creation_date             783\n",
       "review_answer_timestamp          783\n",
       "payment_sequential                92\n",
       "payment_type                      92\n",
       "payment_installments              92\n",
       "payment_value                     92\n",
       "dtype: int64"
      ]
     },
     "execution_count": 6,
     "metadata": {},
     "output_type": "execute_result"
    }
   ],
   "source": [
    "df_simulation\n",
    "df_simulation.isna().sum()"
   ]
  },
  {
   "cell_type": "markdown",
   "id": "c7a72401-2415-49e6-85f3-36372ed7a2e6",
   "metadata": {},
   "source": [
    "### <font color=\"#337da4\" id=\"3\"> 3. Stabilité temporelle du modèle </font>\n",
    "----------------------------\n",
    "\n",
    "Nous allons faire les tests sur la base du modèle final retenu. <br>\n",
    "Il s'agit du modèle K-Means avec un nombre de clusters optimal $ \\large K=5$."
   ]
  },
  {
   "cell_type": "code",
   "execution_count": 7,
   "id": "02c6169a-c9f7-4ba3-8ce1-4fd9272cec1c",
   "metadata": {},
   "outputs": [],
   "source": [
    "K = 5"
   ]
  },
  {
   "cell_type": "code",
   "execution_count": 8,
   "id": "ab046791-10ff-40b0-98e8-01c6dc87e035",
   "metadata": {},
   "outputs": [
    {
     "data": {
      "text/html": [
       "<div>\n",
       "<style scoped>\n",
       "    .dataframe tbody tr th:only-of-type {\n",
       "        vertical-align: middle;\n",
       "    }\n",
       "\n",
       "    .dataframe tbody tr th {\n",
       "        vertical-align: top;\n",
       "    }\n",
       "\n",
       "    .dataframe thead th {\n",
       "        text-align: right;\n",
       "    }\n",
       "</style>\n",
       "<table border=\"1\" class=\"dataframe\">\n",
       "  <thead>\n",
       "    <tr style=\"text-align: right;\">\n",
       "      <th></th>\n",
       "      <th>recency</th>\n",
       "      <th>frequency</th>\n",
       "      <th>monetary</th>\n",
       "      <th>mean_score</th>\n",
       "    </tr>\n",
       "    <tr>\n",
       "      <th>customer_unique_id</th>\n",
       "      <th></th>\n",
       "      <th></th>\n",
       "      <th></th>\n",
       "      <th></th>\n",
       "    </tr>\n",
       "  </thead>\n",
       "  <tbody>\n",
       "    <tr>\n",
       "      <th>0000366f3b9a7992bf8c76cfdf3221e2</th>\n",
       "      <td>159</td>\n",
       "      <td>1</td>\n",
       "      <td>141.90</td>\n",
       "      <td>5.0</td>\n",
       "    </tr>\n",
       "    <tr>\n",
       "      <th>0000b849f77a49e4a4ce2b2a4ca5be3f</th>\n",
       "      <td>162</td>\n",
       "      <td>1</td>\n",
       "      <td>27.19</td>\n",
       "      <td>4.0</td>\n",
       "    </tr>\n",
       "    <tr>\n",
       "      <th>0000f46a3911fa3c0805444483337064</th>\n",
       "      <td>584</td>\n",
       "      <td>1</td>\n",
       "      <td>86.22</td>\n",
       "      <td>3.0</td>\n",
       "    </tr>\n",
       "    <tr>\n",
       "      <th>0000f6ccb0745a6a4b88665a16c9f078</th>\n",
       "      <td>368</td>\n",
       "      <td>1</td>\n",
       "      <td>43.62</td>\n",
       "      <td>4.0</td>\n",
       "    </tr>\n",
       "    <tr>\n",
       "      <th>0004aac84e0df4da2b147fca70cf8255</th>\n",
       "      <td>336</td>\n",
       "      <td>1</td>\n",
       "      <td>196.89</td>\n",
       "      <td>5.0</td>\n",
       "    </tr>\n",
       "    <tr>\n",
       "      <th>...</th>\n",
       "      <td>...</td>\n",
       "      <td>...</td>\n",
       "      <td>...</td>\n",
       "      <td>...</td>\n",
       "    </tr>\n",
       "    <tr>\n",
       "      <th>fffcf5a5ff07b0908bd4e2dbc735a684</th>\n",
       "      <td>494</td>\n",
       "      <td>1</td>\n",
       "      <td>2067.42</td>\n",
       "      <td>5.0</td>\n",
       "    </tr>\n",
       "    <tr>\n",
       "      <th>fffea47cd6d3cc0a88bd621562a9d061</th>\n",
       "      <td>310</td>\n",
       "      <td>1</td>\n",
       "      <td>84.58</td>\n",
       "      <td>4.0</td>\n",
       "    </tr>\n",
       "    <tr>\n",
       "      <th>ffff371b4d645b6ecea244b27531430a</th>\n",
       "      <td>616</td>\n",
       "      <td>1</td>\n",
       "      <td>112.46</td>\n",
       "      <td>5.0</td>\n",
       "    </tr>\n",
       "    <tr>\n",
       "      <th>ffff5962728ec6157033ef9805bacc48</th>\n",
       "      <td>167</td>\n",
       "      <td>1</td>\n",
       "      <td>133.69</td>\n",
       "      <td>5.0</td>\n",
       "    </tr>\n",
       "    <tr>\n",
       "      <th>ffffd2657e2aad2907e67c3e9daecbeb</th>\n",
       "      <td>531</td>\n",
       "      <td>1</td>\n",
       "      <td>71.56</td>\n",
       "      <td>5.0</td>\n",
       "    </tr>\n",
       "  </tbody>\n",
       "</table>\n",
       "<p>95419 rows × 4 columns</p>\n",
       "</div>"
      ],
      "text/plain": [
       "                                  recency  frequency  monetary  mean_score\n",
       "customer_unique_id                                                        \n",
       "0000366f3b9a7992bf8c76cfdf3221e2      159          1    141.90         5.0\n",
       "0000b849f77a49e4a4ce2b2a4ca5be3f      162          1     27.19         4.0\n",
       "0000f46a3911fa3c0805444483337064      584          1     86.22         3.0\n",
       "0000f6ccb0745a6a4b88665a16c9f078      368          1     43.62         4.0\n",
       "0004aac84e0df4da2b147fca70cf8255      336          1    196.89         5.0\n",
       "...                                   ...        ...       ...         ...\n",
       "fffcf5a5ff07b0908bd4e2dbc735a684      494          1   2067.42         5.0\n",
       "fffea47cd6d3cc0a88bd621562a9d061      310          1     84.58         4.0\n",
       "ffff371b4d645b6ecea244b27531430a      616          1    112.46         5.0\n",
       "ffff5962728ec6157033ef9805bacc48      167          1    133.69         5.0\n",
       "ffffd2657e2aad2907e67c3e9daecbeb      531          1     71.56         5.0\n",
       "\n",
       "[95419 rows x 4 columns]"
      ]
     },
     "execution_count": 8,
     "metadata": {},
     "output_type": "execute_result"
    }
   ],
   "source": [
    "random_state=42\n",
    "\n",
    "def rfms_maker(data, col_id, col_rf, col_m, col_s) :\n",
    "    \n",
    "    ## récence\n",
    "    recency = data.groupby(by = col_id, as_index = False)[col_rf].max()\n",
    "    recent_date = recency[col_rf].max()\n",
    "    recency[\"recency\"] = recency[col_rf].apply(lambda x : (recent_date - x).days)\n",
    "    \n",
    "    ## Fréquence\n",
    "    frequency = data.groupby(by = col_id, as_index = False)[col_rf].count()\n",
    "    frequency[\"frequency\"] = frequency[col_rf]\n",
    "    \n",
    "    ## Valeur monétaire\n",
    "    monetary_value = data.groupby(by = col_id, as_index = False)[col_m].sum()\n",
    "    monetary_value[\"monetary\"] = monetary_value[col_m]\n",
    "    \n",
    "    ## Satisfaction\n",
    "    score = data.groupby(by = col_id, as_index = False)[col_s].mean()\n",
    "    score[\"mean_score\"] = score[col_s]  \n",
    "    \n",
    "    ## Constuire la table RFMS\n",
    "    rf = recency[[col_id, \"recency\"]].merge(frequency[[col_id, \"frequency\"]])\n",
    "    rfm = rf.merge(monetary_value[[col_id, \"monetary\"]])\n",
    "    rfms = rfm.merge(score[[col_id, \"mean_score\"]])\n",
    "    \n",
    "    rfms.set_index(col_id, inplace = True)\n",
    "    \n",
    "    return rfms\n",
    "\n",
    "df_rfms=rfms_maker(df_simulation, 'customer_unique_id', 'order_purchase_timestamp', \n",
    "                   'payment_value','review_score')\n",
    "df_rfms"
   ]
  },
  {
   "cell_type": "code",
   "execution_count": 9,
   "id": "a51cdf40-0a9c-4c7f-adbe-ca8901561eb1",
   "metadata": {},
   "outputs": [
    {
     "data": {
      "text/html": [
       "<style>#sk-container-id-1 {color: black;background-color: white;}#sk-container-id-1 pre{padding: 0;}#sk-container-id-1 div.sk-toggleable {background-color: white;}#sk-container-id-1 label.sk-toggleable__label {cursor: pointer;display: block;width: 100%;margin-bottom: 0;padding: 0.3em;box-sizing: border-box;text-align: center;}#sk-container-id-1 label.sk-toggleable__label-arrow:before {content: \"▸\";float: left;margin-right: 0.25em;color: #696969;}#sk-container-id-1 label.sk-toggleable__label-arrow:hover:before {color: black;}#sk-container-id-1 div.sk-estimator:hover label.sk-toggleable__label-arrow:before {color: black;}#sk-container-id-1 div.sk-toggleable__content {max-height: 0;max-width: 0;overflow: hidden;text-align: left;background-color: #f0f8ff;}#sk-container-id-1 div.sk-toggleable__content pre {margin: 0.2em;color: black;border-radius: 0.25em;background-color: #f0f8ff;}#sk-container-id-1 input.sk-toggleable__control:checked~div.sk-toggleable__content {max-height: 200px;max-width: 100%;overflow: auto;}#sk-container-id-1 input.sk-toggleable__control:checked~label.sk-toggleable__label-arrow:before {content: \"▾\";}#sk-container-id-1 div.sk-estimator input.sk-toggleable__control:checked~label.sk-toggleable__label {background-color: #d4ebff;}#sk-container-id-1 div.sk-label input.sk-toggleable__control:checked~label.sk-toggleable__label {background-color: #d4ebff;}#sk-container-id-1 input.sk-hidden--visually {border: 0;clip: rect(1px 1px 1px 1px);clip: rect(1px, 1px, 1px, 1px);height: 1px;margin: -1px;overflow: hidden;padding: 0;position: absolute;width: 1px;}#sk-container-id-1 div.sk-estimator {font-family: monospace;background-color: #f0f8ff;border: 1px dotted black;border-radius: 0.25em;box-sizing: border-box;margin-bottom: 0.5em;}#sk-container-id-1 div.sk-estimator:hover {background-color: #d4ebff;}#sk-container-id-1 div.sk-parallel-item::after {content: \"\";width: 100%;border-bottom: 1px solid gray;flex-grow: 1;}#sk-container-id-1 div.sk-label:hover label.sk-toggleable__label {background-color: #d4ebff;}#sk-container-id-1 div.sk-serial::before {content: \"\";position: absolute;border-left: 1px solid gray;box-sizing: border-box;top: 0;bottom: 0;left: 50%;z-index: 0;}#sk-container-id-1 div.sk-serial {display: flex;flex-direction: column;align-items: center;background-color: white;padding-right: 0.2em;padding-left: 0.2em;position: relative;}#sk-container-id-1 div.sk-item {position: relative;z-index: 1;}#sk-container-id-1 div.sk-parallel {display: flex;align-items: stretch;justify-content: center;background-color: white;position: relative;}#sk-container-id-1 div.sk-item::before, #sk-container-id-1 div.sk-parallel-item::before {content: \"\";position: absolute;border-left: 1px solid gray;box-sizing: border-box;top: 0;bottom: 0;left: 50%;z-index: -1;}#sk-container-id-1 div.sk-parallel-item {display: flex;flex-direction: column;z-index: 1;position: relative;background-color: white;}#sk-container-id-1 div.sk-parallel-item:first-child::after {align-self: flex-end;width: 50%;}#sk-container-id-1 div.sk-parallel-item:last-child::after {align-self: flex-start;width: 50%;}#sk-container-id-1 div.sk-parallel-item:only-child::after {width: 0;}#sk-container-id-1 div.sk-dashed-wrapped {border: 1px dashed gray;margin: 0 0.4em 0.5em 0.4em;box-sizing: border-box;padding-bottom: 0.4em;background-color: white;}#sk-container-id-1 div.sk-label label {font-family: monospace;font-weight: bold;display: inline-block;line-height: 1.2em;}#sk-container-id-1 div.sk-label-container {text-align: center;}#sk-container-id-1 div.sk-container {/* jupyter's `normalize.less` sets `[hidden] { display: none; }` but bootstrap.min.css set `[hidden] { display: none !important; }` so we also need the `!important` here to be able to override the default hidden behavior on the sphinx rendered scikit-learn.org. See: https://github.com/scikit-learn/scikit-learn/issues/21755 */display: inline-block !important;position: relative;}#sk-container-id-1 div.sk-text-repr-fallback {display: none;}</style><div id=\"sk-container-id-1\" class=\"sk-top-container\"><div class=\"sk-text-repr-fallback\"><pre>Pipeline(steps=[(&#x27;preprocessor&#x27;,\n",
       "                 ColumnTransformer(transformers=[(&#x27;num&#x27;,\n",
       "                                                  Pipeline(steps=[(&#x27;imputer&#x27;,\n",
       "                                                                   SimpleImputer(strategy=&#x27;median&#x27;)),\n",
       "                                                                  (&#x27;scaler&#x27;,\n",
       "                                                                   StandardScaler())]),\n",
       "                                                  Index([&#x27;recency&#x27;, &#x27;frequency&#x27;, &#x27;monetary&#x27;, &#x27;mean_score&#x27;], dtype=&#x27;object&#x27;))]))])</pre><b>In a Jupyter environment, please rerun this cell to show the HTML representation or trust the notebook. <br />On GitHub, the HTML representation is unable to render, please try loading this page with nbviewer.org.</b></div><div class=\"sk-container\" hidden><div class=\"sk-item sk-dashed-wrapped\"><div class=\"sk-label-container\"><div class=\"sk-label sk-toggleable\"><input class=\"sk-toggleable__control sk-hidden--visually\" id=\"sk-estimator-id-1\" type=\"checkbox\" ><label for=\"sk-estimator-id-1\" class=\"sk-toggleable__label sk-toggleable__label-arrow\">Pipeline</label><div class=\"sk-toggleable__content\"><pre>Pipeline(steps=[(&#x27;preprocessor&#x27;,\n",
       "                 ColumnTransformer(transformers=[(&#x27;num&#x27;,\n",
       "                                                  Pipeline(steps=[(&#x27;imputer&#x27;,\n",
       "                                                                   SimpleImputer(strategy=&#x27;median&#x27;)),\n",
       "                                                                  (&#x27;scaler&#x27;,\n",
       "                                                                   StandardScaler())]),\n",
       "                                                  Index([&#x27;recency&#x27;, &#x27;frequency&#x27;, &#x27;monetary&#x27;, &#x27;mean_score&#x27;], dtype=&#x27;object&#x27;))]))])</pre></div></div></div><div class=\"sk-serial\"><div class=\"sk-item sk-dashed-wrapped\"><div class=\"sk-label-container\"><div class=\"sk-label sk-toggleable\"><input class=\"sk-toggleable__control sk-hidden--visually\" id=\"sk-estimator-id-2\" type=\"checkbox\" ><label for=\"sk-estimator-id-2\" class=\"sk-toggleable__label sk-toggleable__label-arrow\">preprocessor: ColumnTransformer</label><div class=\"sk-toggleable__content\"><pre>ColumnTransformer(transformers=[(&#x27;num&#x27;,\n",
       "                                 Pipeline(steps=[(&#x27;imputer&#x27;,\n",
       "                                                  SimpleImputer(strategy=&#x27;median&#x27;)),\n",
       "                                                 (&#x27;scaler&#x27;, StandardScaler())]),\n",
       "                                 Index([&#x27;recency&#x27;, &#x27;frequency&#x27;, &#x27;monetary&#x27;, &#x27;mean_score&#x27;], dtype=&#x27;object&#x27;))])</pre></div></div></div><div class=\"sk-parallel\"><div class=\"sk-parallel-item\"><div class=\"sk-item\"><div class=\"sk-label-container\"><div class=\"sk-label sk-toggleable\"><input class=\"sk-toggleable__control sk-hidden--visually\" id=\"sk-estimator-id-3\" type=\"checkbox\" ><label for=\"sk-estimator-id-3\" class=\"sk-toggleable__label sk-toggleable__label-arrow\">num</label><div class=\"sk-toggleable__content\"><pre>Index([&#x27;recency&#x27;, &#x27;frequency&#x27;, &#x27;monetary&#x27;, &#x27;mean_score&#x27;], dtype=&#x27;object&#x27;)</pre></div></div></div><div class=\"sk-serial\"><div class=\"sk-item\"><div class=\"sk-serial\"><div class=\"sk-item\"><div class=\"sk-estimator sk-toggleable\"><input class=\"sk-toggleable__control sk-hidden--visually\" id=\"sk-estimator-id-4\" type=\"checkbox\" ><label for=\"sk-estimator-id-4\" class=\"sk-toggleable__label sk-toggleable__label-arrow\">SimpleImputer</label><div class=\"sk-toggleable__content\"><pre>SimpleImputer(strategy=&#x27;median&#x27;)</pre></div></div></div><div class=\"sk-item\"><div class=\"sk-estimator sk-toggleable\"><input class=\"sk-toggleable__control sk-hidden--visually\" id=\"sk-estimator-id-5\" type=\"checkbox\" ><label for=\"sk-estimator-id-5\" class=\"sk-toggleable__label sk-toggleable__label-arrow\">StandardScaler</label><div class=\"sk-toggleable__content\"><pre>StandardScaler()</pre></div></div></div></div></div></div></div></div></div></div></div></div></div></div>"
      ],
      "text/plain": [
       "Pipeline(steps=[('preprocessor',\n",
       "                 ColumnTransformer(transformers=[('num',\n",
       "                                                  Pipeline(steps=[('imputer',\n",
       "                                                                   SimpleImputer(strategy='median')),\n",
       "                                                                  ('scaler',\n",
       "                                                                   StandardScaler())]),\n",
       "                                                  Index(['recency', 'frequency', 'monetary', 'mean_score'], dtype='object'))]))])"
      ]
     },
     "execution_count": 9,
     "metadata": {},
     "output_type": "execute_result"
    }
   ],
   "source": [
    "# Préparation des données\n",
    "def prepro(X):\n",
    "    numeric_features=X.columns\n",
    "    numeric_transformer = Pipeline(steps=[('imputer', SimpleImputer(strategy='median')),\n",
    "                                          ('scaler', StandardScaler())])\n",
    "\n",
    "    preprocessor = ColumnTransformer(transformers=[('num', numeric_transformer, numeric_features)])\n",
    "\n",
    "    preprocessor = Pipeline(steps=[\n",
    "        ('preprocessor', preprocessor)\n",
    "    ])\n",
    "\n",
    "    X_scaled= pd.DataFrame(data=preprocessor.fit_transform(X), \n",
    "                           index=X.index, columns=X.columns)\n",
    "    return preprocessor, X_scaled\n",
    "\n",
    "\n",
    "preprocessor, X_scaled=prepro(df_rfms)\n",
    "preprocessor"
   ]
  },
  {
   "cell_type": "markdown",
   "id": "bf060fca-7fc0-408c-8123-6da6c2b17e7f",
   "metadata": {},
   "source": [
    "#### <font color=\"#337da4\" id=\"3.1\"> 3.1. Période de référence </font>\n",
    "----------------------------"
   ]
  },
  {
   "cell_type": "code",
   "execution_count": 10,
   "id": "fa38af22-8910-4f5a-821a-eaaff4b0587e",
   "metadata": {},
   "outputs": [
    {
     "name": "stdout",
     "output_type": "stream",
     "text": [
      "Les données couvrent une période de  25  mois.\n",
      "Il s'agit précisment de  Sep-2016 au Oct-2018 .\n"
     ]
    }
   ],
   "source": [
    "## Période complète de la base de données entière\n",
    "# print(53 * '_')\n",
    "print(\"Les données couvrent une période de \",\n",
    "      int((df_simulation.order_purchase_timestamp.max() - df_simulation.order_purchase_timestamp.min()) / np.timedelta64(1, \"M\")), \n",
    "      \" mois.\")\n",
    "print(\"Il s'agit précisment de \",\n",
    "      df_simulation.order_purchase_timestamp.min().strftime(\"%b-%Y\"),\n",
    "      \"au\",\n",
    "      df_simulation.order_purchase_timestamp.max().strftime(\"%b-%Y\"), \".\"\n",
    "     )\n",
    "# print(53 * '_')"
   ]
  },
  {
   "cell_type": "markdown",
   "id": "f9506142-fc3f-4682-9aea-d9034d8a40af",
   "metadata": {},
   "source": [
    "----------\n",
    "**Au regard de l'analyse exploratoire**, les clients ont des comportements différents selon la période de l'année. \n",
    "Compte tenu de ce résultat, nous allons considerer une année complète comme période de reference, **en l'occurence l'année 2017**."
   ]
  },
  {
   "cell_type": "code",
   "execution_count": 11,
   "id": "aedd81aa-b5e5-45b5-9f37-3425b077b221",
   "metadata": {},
   "outputs": [
    {
     "name": "stdout",
     "output_type": "stream",
     "text": [
      "2017-01-05 11:56:06\n",
      "2017-12-31 23:29:31\n"
     ]
    }
   ],
   "source": [
    "import datetime\n",
    "from pandas.tseries.offsets import DateOffset\n",
    "\n",
    "## Extraire les données de l'année de référence\n",
    "t_begin = datetime.datetime.strptime(\"2017-01-01 00:00:00\", \"%Y-%m-%d %H:%M:%S\") # Date de départ\n",
    "t_end = datetime.datetime.strptime(\"2018-01-01 00:00:00\", \"%Y-%m-%d %H:%M:%S\") # Date de fin\n",
    "\n",
    "data_ref = df_simulation.loc[(t_begin <= df_simulation.order_purchase_timestamp) & (df_simulation.order_purchase_timestamp < t_end)]\n",
    "print(data_ref.order_purchase_timestamp.min())\n",
    "print(data_ref.order_purchase_timestamp.max())"
   ]
  },
  {
   "cell_type": "markdown",
   "id": "658b74ae-295f-442c-ba2a-fd373b554fc6",
   "metadata": {},
   "source": [
    "-------\n",
    "Ensuite, nous créer la base RFMS sur cette période de reference. "
   ]
  },
  {
   "cell_type": "code",
   "execution_count": 12,
   "id": "fd6be3df-a758-407c-8777-df56d65193f2",
   "metadata": {},
   "outputs": [
    {
     "data": {
      "text/html": [
       "<div>\n",
       "<style scoped>\n",
       "    .dataframe tbody tr th:only-of-type {\n",
       "        vertical-align: middle;\n",
       "    }\n",
       "\n",
       "    .dataframe tbody tr th {\n",
       "        vertical-align: top;\n",
       "    }\n",
       "\n",
       "    .dataframe thead th {\n",
       "        text-align: right;\n",
       "    }\n",
       "</style>\n",
       "<table border=\"1\" class=\"dataframe\">\n",
       "  <thead>\n",
       "    <tr style=\"text-align: right;\">\n",
       "      <th></th>\n",
       "      <th>recency</th>\n",
       "      <th>frequency</th>\n",
       "      <th>monetary</th>\n",
       "      <th>mean_score</th>\n",
       "    </tr>\n",
       "    <tr>\n",
       "      <th>customer_unique_id</th>\n",
       "      <th></th>\n",
       "      <th></th>\n",
       "      <th></th>\n",
       "      <th></th>\n",
       "    </tr>\n",
       "  </thead>\n",
       "  <tbody>\n",
       "    <tr>\n",
       "      <th>0000f46a3911fa3c0805444483337064</th>\n",
       "      <td>296</td>\n",
       "      <td>1</td>\n",
       "      <td>86.22</td>\n",
       "      <td>3.0</td>\n",
       "    </tr>\n",
       "    <tr>\n",
       "      <th>0000f6ccb0745a6a4b88665a16c9f078</th>\n",
       "      <td>80</td>\n",
       "      <td>1</td>\n",
       "      <td>43.62</td>\n",
       "      <td>4.0</td>\n",
       "    </tr>\n",
       "    <tr>\n",
       "      <th>0004aac84e0df4da2b147fca70cf8255</th>\n",
       "      <td>47</td>\n",
       "      <td>1</td>\n",
       "      <td>196.89</td>\n",
       "      <td>5.0</td>\n",
       "    </tr>\n",
       "  </tbody>\n",
       "</table>\n",
       "</div>"
      ],
      "text/plain": [
       "                                  recency  frequency  monetary  mean_score\n",
       "customer_unique_id                                                        \n",
       "0000f46a3911fa3c0805444483337064      296          1     86.22         3.0\n",
       "0000f6ccb0745a6a4b88665a16c9f078       80          1     43.62         4.0\n",
       "0004aac84e0df4da2b147fca70cf8255       47          1    196.89         5.0"
      ]
     },
     "execution_count": 12,
     "metadata": {},
     "output_type": "execute_result"
    }
   ],
   "source": [
    "rfms_ref = rfms_maker(data_ref, 'customer_unique_id', 'order_purchase_timestamp', \n",
    "                   'payment_value','review_score')\n",
    "rfms_ref.head(3)"
   ]
  },
  {
   "cell_type": "markdown",
   "id": "c03d1100-806f-4ace-9e18-0c50a9de7469",
   "metadata": {},
   "source": [
    "#### <font color=\"#337da4\" id=\"3.2\"> 3.2. Par période de 1 mois </font>\n",
    "----------------------------\n"
   ]
  },
  {
   "cell_type": "code",
   "execution_count": 13,
   "id": "47c1dedf-8abd-48c4-a38f-bb9ca5387f3c",
   "metadata": {},
   "outputs": [
    {
     "name": "stdout",
     "output_type": "stream",
     "text": [
      "time_delta_1m : 21\n"
     ]
    }
   ],
   "source": [
    "time_delta_1m = int((df_simulation.order_purchase_timestamp.max() - t_begin) / np.timedelta64(1, \"M\"))\n",
    "print('time_delta_1m :', time_delta_1m)\n",
    "\n",
    "ari_score_1m = []\n",
    "for p in range(1, (time_delta_1m + 1)) :\n",
    "    \n",
    "    stop_p = t_end + pd.DateOffset(months = p)\n",
    "    data_p = df_simulation.loc[(t_begin <= df_simulation.order_purchase_timestamp) & (df_simulation.order_purchase_timestamp < stop_p)]\n",
    "    \n",
    "    rfms_p = rfms_maker(data_p, 'customer_unique_id', 'order_purchase_timestamp', 'payment_value','review_score')\n",
    "    ## Filtrer les clients présents sur rfms_ref pour pouvoir comparer\n",
    "    rfms_p = rfms_p[rfms_p.index.isin(rfms_ref.index)]   \n",
    "    \n",
    "    ## Réentraîner le modèle de référence\n",
    "    preprocessor.fit_transform(rfms_ref)\n",
    "    km_ref = KMeans(K, random_state=random_state).fit(rfms_ref)\n",
    "    \n",
    "    ## Prédire les nouvelles données sur le modèle de référence\n",
    "    cluster_ref = km_ref.predict(rfms_p)\n",
    "    \n",
    "    ## Entraîner le nouveau modèle\n",
    "    preprocessor.fit_transform(rfms_p)\n",
    "    km_p = KMeans(K, random_state=random_state).fit(rfms_p)\n",
    "    \n",
    "    ## Etiquetage par le nouveau modèle\n",
    "    cluster_p = km_p.labels_\n",
    "    \n",
    "    ## Calcul de l'ARI score\n",
    "    ari_p = adjusted_rand_score(cluster_ref, cluster_p)\n",
    "    ari_score_1m.append([p, ari_p])"
   ]
  },
  {
   "cell_type": "code",
   "execution_count": 14,
   "id": "8fb7066e-b0bc-4d2a-8a9f-d4d5214de572",
   "metadata": {},
   "outputs": [
    {
     "data": {
      "image/png": "[encoded data removed]",
      "text/plain": [
       "<Figure size 1000x400 with 1 Axes>"
      ]
     },
     "metadata": {},
     "output_type": "display_data"
    }
   ],
   "source": [
    "ari_score_1m = pd.DataFrame(ari_score_1m, columns = [\"periode\", \"ARI\"])\n",
    "\n",
    "# plot ARI Score\n",
    "fig = plt.figure(figsize = (10, 4))\n",
    "plt.ylim(-0.05, 1.05)\n",
    "plt.xlim(-0.05, (time_delta_1m + 1))\n",
    "sns.lineplot(data = ari_score_1m, x = \"periode\", y = \"ARI\")\n",
    "plt.axhline(y = ari_score_1m.iloc[0][1],\n",
    "            linestyle = \"--\", \n",
    "            color = \"green\",\n",
    "            #xmax = 0.43,\n",
    "            linewidth = 1)\n",
    "plt.axvline(x = ari_score_1m.iloc[0][0],\n",
    "            linestyle = \"--\", \n",
    "            color = \"green\",\n",
    "            #ymax = 1.1-(ari_score_1m.iloc[2][1]),\n",
    "            linewidth = 1)\n",
    "plt.xlabel(\"Période (mois)\")\n",
    "plt.ylabel(\"Score ARI\")\n",
    "plt.title(\"Stabilité temporelle de la segmentation par K-Means\",\n",
    "          fontsize = 18,\n",
    "          color = \"b\")\n",
    "plt.show()"
   ]
  },
  {
   "cell_type": "code",
   "execution_count": 15,
   "id": "dc658542-b617-4557-9b8b-cc63c6403516",
   "metadata": {},
   "outputs": [
    {
     "data": {
      "text/plain": [
       "periode    1.000000\n",
       "ARI        0.714477\n",
       "Name: 0, dtype: float64"
      ]
     },
     "execution_count": 15,
     "metadata": {},
     "output_type": "execute_result"
    }
   ],
   "source": [
    "ari_score_1m.iloc[0]"
   ]
  },
  {
   "cell_type": "markdown",
   "id": "2b9ad577-a7bd-46c0-81fd-5aaae7d32357",
   "metadata": {},
   "source": [
    "##### Fréquence de MAJ => <b>1 mois</b>\n",
    "--------------"
   ]
  },
  {
   "cell_type": "markdown",
   "id": "19f34164-c042-401b-9040-bef7e9e8277d",
   "metadata": {},
   "source": [
    "#### <font color=\"#337da4\" id=\"3.3\"> 3.3. Chaque 2 semaines </font>\n",
    "----------------------------"
   ]
  },
  {
   "cell_type": "code",
   "execution_count": 16,
   "id": "f4cc5390-dc37-4f2d-ab34-21e2d0289a89",
   "metadata": {},
   "outputs": [
    {
     "name": "stdout",
     "output_type": "stream",
     "text": [
      "time_delta_2w : 46\n"
     ]
    }
   ],
   "source": [
    "time_delta_2w = int((df_simulation.order_purchase_timestamp.max() - t_begin) / np.timedelta64(2, \"W\")) \n",
    "print('time_delta_2w :', time_delta_2w)\n",
    "ari_score_2w = []\n",
    "for p in range(2, (time_delta_2w * 2 + 1), 2) :\n",
    "    \n",
    "    stop_p = t_end + pd.DateOffset(weeks = p)\n",
    "    data_p = df_simulation.loc[(t_begin <= df_simulation.order_purchase_timestamp) & (df_simulation.order_purchase_timestamp < stop_p)]\n",
    "    \n",
    "    rfm_p = rfms_maker(data_p, 'customer_unique_id', 'order_purchase_timestamp', 'payment_value','review_score')\n",
    "    ## Filtrer les clients présents sur rfms_ref pour pouvoir comparer\n",
    "    rfm_p = rfm_p[rfm_p.index.isin(rfms_ref.index)]   \n",
    "    \n",
    "    ## Réentraîner le modèle de référence\n",
    "    preprocessor.fit_transform(rfms_ref)\n",
    "    km_ref = KMeans(K, random_state=random_state).fit(rfms_ref)\n",
    "    ## Prédire les nouvelles données sur le modèle de référence\n",
    "    cluster_ref = km_ref.predict(rfm_p)\n",
    "    \n",
    "    ## Entraîner le nouveau modèle\n",
    "    preprocessor.fit_transform(rfm_p)\n",
    "    km_p = KMeans(K, random_state=random_state).fit(rfm_p)\n",
    "    ## Etiquetage par le nouveau modèle\n",
    "    cluster_p = km_p.labels_\n",
    "    \n",
    "    ## Calculate ARI score\n",
    "    ari_p = adjusted_rand_score(cluster_ref, cluster_p)\n",
    "    ari_score_2w.append([p, ari_p])"
   ]
  },
  {
   "cell_type": "code",
   "execution_count": 17,
   "id": "d873f5d2-47f3-40b9-b839-14867ebba1c9",
   "metadata": {},
   "outputs": [
    {
     "data": {
      "image/png": "[encoded data removed]",
      "text/plain": [
       "<Figure size 1000x400 with 1 Axes>"
      ]
     },
     "metadata": {},
     "output_type": "display_data"
    }
   ],
   "source": [
    "ari_score_2w = pd.DataFrame(ari_score_2w, columns = [\"periode\", \"ARI\"])\n",
    "\n",
    "# plot ARI Score\n",
    "fig = plt.figure(figsize = (10, 4))\n",
    "plt.ylim(-0.05, 1.05)\n",
    "plt.xlim(-0.05, (time_delta_2w * 2 + 1))\n",
    "sns.lineplot(data = ari_score_2w, x = \"periode\", y = \"ARI\")\n",
    "plt.axhline(y = ari_score_2w.iloc[2][1],\n",
    "            linestyle = \"--\", \n",
    "            color = \"green\",\n",
    "            #xmax = 0.43,\n",
    "            linewidth = 1)\n",
    "plt.axvline(x = ari_score_2w.iloc[2][0],\n",
    "            linestyle = \"--\", \n",
    "            color = \"green\",\n",
    "            #ymax = 1.1-(ari_score_2w.iloc[2][1]),\n",
    "            linewidth = 1)\n",
    "plt.xlabel(\"Période (semaine)\")\n",
    "plt.ylabel(\"Score ARI\")\n",
    "plt.title(\"Stabilité temporelle de la segmentation par K-Means\",\n",
    "          fontsize = 18,\n",
    "          color = \"b\")\n",
    "plt.show()"
   ]
  },
  {
   "cell_type": "code",
   "execution_count": 18,
   "id": "f17ed252-14dd-41dd-b236-3d885b80e8b0",
   "metadata": {},
   "outputs": [
    {
     "data": {
      "text/plain": [
       "periode    6.000000\n",
       "ARI        0.621641\n",
       "Name: 2, dtype: float64"
      ]
     },
     "execution_count": 18,
     "metadata": {},
     "output_type": "execute_result"
    }
   ],
   "source": [
    "ari_score_2w.iloc[2]"
   ]
  },
  {
   "cell_type": "markdown",
   "id": "abdba129-a5d3-42b6-a545-1278da49c8c1",
   "metadata": {},
   "source": [
    "##### Fréquence de MAJ => <b> 6 semaines </b>\n",
    "--------------"
   ]
  },
  {
   "cell_type": "markdown",
   "id": "a8207d66-dc58-43e1-824f-e8dbd8f3a3c2",
   "metadata": {},
   "source": [
    "#### <font color=\"#337da4\" id=\"3.3\"> 3.4. Chaque semaine </font>\n",
    "----------------------------"
   ]
  },
  {
   "cell_type": "code",
   "execution_count": 19,
   "id": "ed7137cb-d917-4d17-a505-151af06f6021",
   "metadata": {},
   "outputs": [],
   "source": [
    "time_delta_1w = int((df_simulation.order_purchase_timestamp.max() - t_begin) / np.timedelta64(1, \"W\"))\n",
    "\n",
    "ari_score_1w = []\n",
    "for p in range(1, (time_delta_1w + 1)) :\n",
    "    \n",
    "    stop_p = t_end + pd.DateOffset(weeks = p)\n",
    "    data_p = df_simulation.loc[(t_begin <= df_simulation.order_purchase_timestamp) & (df_simulation.order_purchase_timestamp < stop_p)]\n",
    "    \n",
    "    rfm_p = rfms_maker(data_p, 'customer_unique_id', 'order_purchase_timestamp', 'payment_value','review_score')\n",
    "    ## Filtrer les clients présents sur rfms_ref pour pouvoir comparer\n",
    "    rfm_p = rfm_p[rfm_p.index.isin(rfms_ref.index)]   \n",
    "    \n",
    "    ## Réentraîner le modèle de référence\n",
    "    preprocessor.fit_transform(rfms_ref)\n",
    "    km_ref = KMeans(K, random_state=random_state).fit(rfms_ref)\n",
    "    ## Prédire les nouvelles données sur le modèle de référence\n",
    "    cluster_ref = km_ref.predict(rfm_p)\n",
    "    \n",
    "    ## Entraîner le nouveau modèle\n",
    "    preprocessor.fit_transform(rfm_p)\n",
    "    km_p = KMeans(K, random_state=random_state).fit(rfm_p)\n",
    "    ## Etiquetage par le nouveau modèle\n",
    "    cluster_p = km_p.labels_\n",
    "    \n",
    "    ## Calculate ARI score\n",
    "    ari_p = adjusted_rand_score(cluster_ref, cluster_p)\n",
    "    ari_score_1w.append([p, ari_p])"
   ]
  },
  {
   "cell_type": "code",
   "execution_count": 20,
   "id": "58f33c95-1f15-4560-aeda-1ef5b81970b7",
   "metadata": {},
   "outputs": [
    {
     "data": {
      "image/png": "[encoded data removed]",
      "text/plain": [
       "<Figure size 1200x800 with 1 Axes>"
      ]
     },
     "metadata": {},
     "output_type": "display_data"
    }
   ],
   "source": [
    "ari_score_1w = pd.DataFrame(ari_score_1w, columns = [\"periode\", \"ARI\"])\n",
    "\n",
    "# plot ARI Score\n",
    "fig = plt.figure(figsize = (12, 8))\n",
    "plt.ylim(-0.05, 1.05)\n",
    "plt.xlim(-0.05, (time_delta_1w + 1))\n",
    "sns.lineplot(data = ari_score_1w, x = \"periode\", y = \"ARI\")\n",
    "plt.axhline(y = ari_score_1w.iloc[5][1],\n",
    "            linestyle = \"--\", \n",
    "            color = \"green\",\n",
    "            #xmax = 0.43,\n",
    "            linewidth = 1)\n",
    "plt.axvline(x = ari_score_1w.iloc[5][0],\n",
    "            linestyle = \"--\", \n",
    "            color = \"green\",\n",
    "            #ymax = 1.1-(ari_score.iloc[2][1]),\n",
    "            linewidth = 1)\n",
    "plt.xlabel(\"Période (semaine)\")\n",
    "plt.ylabel(\"Score ARI\")\n",
    "plt.title(\"Stabilité temporelle de la segmentation par K-Means\",\n",
    "          fontsize = 18,\n",
    "          color = \"b\")\n",
    "plt.show()"
   ]
  },
  {
   "cell_type": "code",
   "execution_count": 21,
   "id": "8588b0fe-c02a-4447-9cec-beb62398d5b7",
   "metadata": {},
   "outputs": [
    {
     "data": {
      "text/plain": [
       "periode    6.000000\n",
       "ARI        0.621641\n",
       "Name: 5, dtype: float64"
      ]
     },
     "execution_count": 21,
     "metadata": {},
     "output_type": "execute_result"
    }
   ],
   "source": [
    "ari_score_1w.iloc[5]"
   ]
  },
  {
   "cell_type": "markdown",
   "id": "890b56aa-4ba0-4bae-bba0-6c5fc53314e9",
   "metadata": {},
   "source": [
    "##### Fréquence de MAJ => <b>6 semaines </b>\n",
    "--------------"
   ]
  },
  {
   "cell_type": "markdown",
   "id": "cda30218-c0c8-4632-97ed-a27de396f0e1",
   "metadata": {},
   "source": [
    "### <font color=\"#337da4\" id=\"4\"> Conclusion </font>\n",
    "----------------------------"
   ]
  },
  {
   "cell_type": "markdown",
   "id": "d15117ad-e130-4a11-bfaa-23babb72c851",
   "metadata": {},
   "source": [
    "\n",
    "AU regard des **différents résultats de simulation** la fréquence de mise à jour de notre modèle sera de **6 semaines**."
   ]
  }
 ],
 "metadata": {
  "kernelspec": {
   "display_name": "Python 3 (ipykernel)",
   "language": "python",
   "name": "python3"
  },
  "language_info": {
   "codemirror_mode": {
    "name": "ipython",
    "version": 3
   },
   "file_extension": ".py",
   "mimetype": "text/x-python",
   "name": "python",
   "nbconvert_exporter": "python",
   "pygments_lexer": "ipython3",
   "version": "3.10.9"
  }
 },
 "nbformat": 4,
 "nbformat_minor": 5
}
